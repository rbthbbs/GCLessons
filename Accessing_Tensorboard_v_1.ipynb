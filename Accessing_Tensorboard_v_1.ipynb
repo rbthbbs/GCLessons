{
  "nbformat": 4,
  "nbformat_minor": 0,
  "metadata": {
    "colab": {
      "name": "Accessing_Tensorboard_v_1.ipynb",
      "version": "0.3.2",
      "provenance": [],
      "collapsed_sections": [],
      "include_colab_link": true
    },
    "kernelspec": {
      "name": "python3",
      "display_name": "Python 3"
    }
  },
  "cells": [
    {
      "cell_type": "markdown",
      "metadata": {
        "id": "view-in-github",
        "colab_type": "text"
      },
      "source": [
        "<a href=\"https://colab.research.google.com/github/rbthbbs/GCLessons/blob/master/Accessing_Tensorboard_v_1.ipynb\" target=\"_parent\"><img src=\"https://colab.research.google.com/assets/colab-badge.svg\" alt=\"Open In Colab\"/></a>"
      ]
    },
    {
      "cell_type": "markdown",
      "metadata": {
        "id": "MvNcqyyojngA",
        "colab_type": "text"
      },
      "source": [
        "## Accessing TensorBoard\n",
        "https://adventuresinmachinelearning.com/introduction-to-google-colaboratory/"
      ]
    },
    {
      "cell_type": "code",
      "metadata": {
        "id": "rWSUNKkYlvTA",
        "colab_type": "code",
        "colab": {}
      },
      "source": [
        "!pip install -U -q PyDrive # to talk with gdrive"
      ],
      "execution_count": 0,
      "outputs": []
    },
    {
      "cell_type": "code",
      "metadata": {
        "id": "mkahmCMmjj16",
        "colab_type": "code",
        "colab": {
          "base_uri": "https://localhost:8080/",
          "height": 238
        },
        "outputId": "ac7e1a05-f3eb-49ed-e307-d1dfa314123b"
      },
      "source": [
        "!wget https://bin.equinox.io/c/4VmDzA7iaHb/ngrok-stable-linux-amd64.zip\n",
        "!unzip ngrok-stable-linux-amd64.zip"
      ],
      "execution_count": 10,
      "outputs": [
        {
          "output_type": "stream",
          "text": [
            "--2019-08-10 22:27:18--  https://bin.equinox.io/c/4VmDzA7iaHb/ngrok-stable-linux-amd64.zip\n",
            "Resolving bin.equinox.io (bin.equinox.io)... 3.224.23.57, 52.2.175.150, 3.225.172.191, ...\n",
            "Connecting to bin.equinox.io (bin.equinox.io)|3.224.23.57|:443... connected.\n",
            "HTTP request sent, awaiting response... 200 OK\n",
            "Length: 13607069 (13M) [application/octet-stream]\n",
            "Saving to: ‘ngrok-stable-linux-amd64.zip.2’\n",
            "\n",
            "\r          ngrok-sta   0%[                    ]       0  --.-KB/s               \rngrok-stable-linux- 100%[===================>]  12.98M  76.5MB/s    in 0.2s    \n",
            "\n",
            "2019-08-10 22:27:18 (76.5 MB/s) - ‘ngrok-stable-linux-amd64.zip.2’ saved [13607069/13607069]\n",
            "\n",
            "Archive:  ngrok-stable-linux-amd64.zip\n",
            "replace ngrok? [y]es, [n]o, [A]ll, [N]one, [r]ename: n\n"
          ],
          "name": "stdout"
        }
      ]
    },
    {
      "cell_type": "code",
      "metadata": {
        "id": "_Vax1AQOj6lh",
        "colab_type": "code",
        "colab": {}
      },
      "source": [
        "#The next step is to create a TensorBoard session in the usual way. To do this in Google Colaboratory, one can run the following commands:\n",
        "\n",
        "LOG_DIR = './log'\n",
        "get_ipython().system_raw(\n",
        "    'tensorboard --logdir {} --host 0.0.0.0 --port 6006 &'\n",
        "    .format(LOG_DIR)\n",
        ")"
      ],
      "execution_count": 0,
      "outputs": []
    },
    {
      "cell_type": "code",
      "metadata": {
        "id": "iWh0MfsDkAuR",
        "colab_type": "code",
        "colab": {
          "base_uri": "https://localhost:8080/",
          "height": 34
        },
        "outputId": "4757b83b-8052-4cb1-aa30-3916b379e5ab"
      },
      "source": [
        "#The next step is to execute ngrok and print out the link which will take the user to the TensorBoard portal:\n",
        "\n",
        "get_ipython().system_raw('./ngrok http 6006 &')\n",
        "! curl -s http://localhost:4040/api/tunnels | python3 -c \\\n",
        "    \"import sys, json; print(json.load(sys.stdin)['tunnels'][0]['public_url'])\"\n",
        "\n",
        "# clicking on the link will open a tensorboard session\n",
        "#(b): on the ML example, does not show the scalars required for the loss graph"
      ],
      "execution_count": 12,
      "outputs": [
        {
          "output_type": "stream",
          "text": [
            "https://2d6b8857.ngrok.io\n"
          ],
          "name": "stdout"
        }
      ]
    }
  ]
}